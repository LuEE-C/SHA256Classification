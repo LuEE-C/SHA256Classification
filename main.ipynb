{
 "cells": [
  {
   "cell_type": "code",
   "execution_count": 1,
   "metadata": {
    "collapsed": true
   },
   "outputs": [],
   "source": [
    "import numpy as np\n",
    "import hashlib\n",
    "\n",
    "# Start by making a dataset\n",
    "def make_dataset(size_of_file=100, n_train=10000, n_test=1000):\n",
    "    train_X, test_X, test_y, train_y = [], [], [], []\n",
    "    \n",
    "    for _ in range(n_train):\n",
    "        num_file = np.random.randint(1, 255, size_of_file)\n",
    "        str_file = ''.join(chr(i) for i in num_file)\n",
    "        sha_256 = hashlib.sha256()\n",
    "        sha_256.update(str_file.encode('utf-8'))\n",
    "        sha_output = sha_256.hexdigest()\n",
    "        sha_output = str(bin(int(sha_output, 16)))[3]\n",
    "        train_X.append(num_file)\n",
    "        train_y.append(int(sha_output))\n",
    "        \n",
    "    for _ in range(n_test):\n",
    "        num_file = np.random.randint(1, 255, size_of_file)\n",
    "        str_file = ''.join(chr(i) for i in num_file)\n",
    "        sha_256 = hashlib.sha256()\n",
    "        sha_256.update(str_file.encode('utf-8'))\n",
    "        sha_output = sha_256.hexdigest()\n",
    "        sha_output = str(bin(int(sha_output, 16)))[3]\n",
    "        test_X.append(num_file)\n",
    "        test_y.append(int(sha_output))\n",
    "        \n",
    "    train_X = np.array(train_X)\n",
    "    train_y = np.array(train_y)\n",
    "    test_X = np.array(test_X)\n",
    "    test_y = np.array(test_y)\n",
    "    \n",
    "    return train_X, test_X, test_y, train_y\n",
    "train_X, test_X, test_y, train_y = make_dataset()"
   ]
  },
  {
   "cell_type": "code",
   "execution_count": 27,
   "metadata": {},
   "outputs": [],
   "source": [
    "from lightgbm import LGBMClassifier\n",
    "from sklearn.metrics import accuracy_score\n",
    "\n",
    "model = LGBMClassifier()\n",
    "model.fit(train_X, train_y)\n",
    "pred = model.predict(test_X)\n",
    "accuracy_score(test_y, train_y)"
   ]
  },
  {
   "cell_type": "code",
   "execution_count": null,
   "outputs": [],
   "source": [
    ""
   ]
  }
 ],
 "metadata": {
  "kernelspec": {
   "display_name": "Python 2",
   "language": "python",
   "name": "python2"
  },
  "language_info": {
   "codemirror_mode": {
    "name": "ipython",
    "version": 2.0
   },
   "file_extension": ".py",
   "mimetype": "text/x-python",
   "name": "python",
   "nbconvert_exporter": "python",
   "pygments_lexer": "ipython2",
   "version": "2.7.6"
  }
 },
 "nbformat": 4,
 "nbformat_minor": 0
}